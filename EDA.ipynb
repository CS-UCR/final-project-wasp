{
 "cells": [
  {
   "cell_type": "code",
   "execution_count": 1,
   "metadata": {},
   "outputs": [],
   "source": [
    "import matplotlib.pyplot as plt\n",
    "import pandas as pd\n",
    "import numpy as np"
   ]
  },
  {
   "cell_type": "code",
   "execution_count": 2,
   "metadata": {},
   "outputs": [
    {
     "data": {
      "text/html": [
       "<div>\n",
       "<style scoped>\n",
       "    .dataframe tbody tr th:only-of-type {\n",
       "        vertical-align: middle;\n",
       "    }\n",
       "\n",
       "    .dataframe tbody tr th {\n",
       "        vertical-align: top;\n",
       "    }\n",
       "\n",
       "    .dataframe thead th {\n",
       "        text-align: right;\n",
       "    }\n",
       "</style>\n",
       "<table border=\"1\" class=\"dataframe\">\n",
       "  <thead>\n",
       "    <tr style=\"text-align: right;\">\n",
       "      <th></th>\n",
       "      <th>Unnamed: 0</th>\n",
       "      <th>Rank</th>\n",
       "      <th>Company Name</th>\n",
       "      <th>Number of Employees</th>\n",
       "      <th>Change in Rank</th>\n",
       "      <th>Revenues ($millions)</th>\n",
       "      <th>Revenue Change</th>\n",
       "      <th>Profits ($millions)</th>\n",
       "      <th>Profit Change</th>\n",
       "      <th>Assets ($millions)</th>\n",
       "      <th>Market Value As of 3/29/19 ($m)</th>\n",
       "      <th>Year</th>\n",
       "    </tr>\n",
       "  </thead>\n",
       "  <tbody>\n",
       "    <tr>\n",
       "      <th>0</th>\n",
       "      <td>0</td>\n",
       "      <td>1</td>\n",
       "      <td>Walmart</td>\n",
       "      <td>2200000.0</td>\n",
       "      <td>-</td>\n",
       "      <td>514405.0</td>\n",
       "      <td>2.8</td>\n",
       "      <td>6670.0</td>\n",
       "      <td>-32.4</td>\n",
       "      <td>219295.0</td>\n",
       "      <td>279880.0</td>\n",
       "      <td>2019</td>\n",
       "    </tr>\n",
       "    <tr>\n",
       "      <th>1</th>\n",
       "      <td>1</td>\n",
       "      <td>2</td>\n",
       "      <td>Exxon Mobil</td>\n",
       "      <td>71000.0</td>\n",
       "      <td>-</td>\n",
       "      <td>290212.0</td>\n",
       "      <td>18.8</td>\n",
       "      <td>20840.0</td>\n",
       "      <td>5.7</td>\n",
       "      <td>346196.0</td>\n",
       "      <td>342172.0</td>\n",
       "      <td>2019</td>\n",
       "    </tr>\n",
       "    <tr>\n",
       "      <th>2</th>\n",
       "      <td>2</td>\n",
       "      <td>3</td>\n",
       "      <td>Apple</td>\n",
       "      <td>132000.0</td>\n",
       "      <td>1</td>\n",
       "      <td>265595.0</td>\n",
       "      <td>15.9</td>\n",
       "      <td>59531.0</td>\n",
       "      <td>23.1</td>\n",
       "      <td>365725.0</td>\n",
       "      <td>895667.0</td>\n",
       "      <td>2019</td>\n",
       "    </tr>\n",
       "    <tr>\n",
       "      <th>3</th>\n",
       "      <td>3</td>\n",
       "      <td>4</td>\n",
       "      <td>Berkshire Hathaway</td>\n",
       "      <td>389000.0</td>\n",
       "      <td>-1</td>\n",
       "      <td>247837.0</td>\n",
       "      <td>2.4</td>\n",
       "      <td>4021.0</td>\n",
       "      <td>-91.1</td>\n",
       "      <td>707794.0</td>\n",
       "      <td>493870.0</td>\n",
       "      <td>2019</td>\n",
       "    </tr>\n",
       "    <tr>\n",
       "      <th>4</th>\n",
       "      <td>4</td>\n",
       "      <td>5</td>\n",
       "      <td>Amazon.com</td>\n",
       "      <td>647500.0</td>\n",
       "      <td>3</td>\n",
       "      <td>232887.0</td>\n",
       "      <td>30.9</td>\n",
       "      <td>10073.0</td>\n",
       "      <td>232.1</td>\n",
       "      <td>162648.0</td>\n",
       "      <td>874710.0</td>\n",
       "      <td>2019</td>\n",
       "    </tr>\n",
       "    <tr>\n",
       "      <th>...</th>\n",
       "      <td>...</td>\n",
       "      <td>...</td>\n",
       "      <td>...</td>\n",
       "      <td>...</td>\n",
       "      <td>...</td>\n",
       "      <td>...</td>\n",
       "      <td>...</td>\n",
       "      <td>...</td>\n",
       "      <td>...</td>\n",
       "      <td>...</td>\n",
       "      <td>...</td>\n",
       "      <td>...</td>\n",
       "    </tr>\n",
       "    <tr>\n",
       "      <th>1495</th>\n",
       "      <td>1495</td>\n",
       "      <td>496</td>\n",
       "      <td>Michaels Cos.</td>\n",
       "      <td>31000.0</td>\n",
       "      <td>517</td>\n",
       "      <td>5197.0</td>\n",
       "      <td>5.8</td>\n",
       "      <td>378.2</td>\n",
       "      <td>4.2</td>\n",
       "      <td>2148.0</td>\n",
       "      <td>4229.0</td>\n",
       "      <td>2017</td>\n",
       "    </tr>\n",
       "    <tr>\n",
       "      <th>1496</th>\n",
       "      <td>1496</td>\n",
       "      <td>497</td>\n",
       "      <td>Toll Brothers</td>\n",
       "      <td>4200.0</td>\n",
       "      <td>576</td>\n",
       "      <td>5170.0</td>\n",
       "      <td>23.9</td>\n",
       "      <td>382.1</td>\n",
       "      <td>5.2</td>\n",
       "      <td>9737.0</td>\n",
       "      <td>5872.0</td>\n",
       "      <td>2017</td>\n",
       "    </tr>\n",
       "    <tr>\n",
       "      <th>1497</th>\n",
       "      <td>1497</td>\n",
       "      <td>498</td>\n",
       "      <td>Yahoo</td>\n",
       "      <td>8500.0</td>\n",
       "      <td>513</td>\n",
       "      <td>5169.0</td>\n",
       "      <td>4.0</td>\n",
       "      <td>-214.3</td>\n",
       "      <td>0.0</td>\n",
       "      <td>48083.0</td>\n",
       "      <td>44391.0</td>\n",
       "      <td>2017</td>\n",
       "    </tr>\n",
       "    <tr>\n",
       "      <th>1498</th>\n",
       "      <td>1498</td>\n",
       "      <td>499</td>\n",
       "      <td>Vistra Energy</td>\n",
       "      <td>4431.0</td>\n",
       "      <td>NaN</td>\n",
       "      <td>5164.0</td>\n",
       "      <td>0.0</td>\n",
       "      <td>0.0</td>\n",
       "      <td>0.0</td>\n",
       "      <td>15167.0</td>\n",
       "      <td>6968.0</td>\n",
       "      <td>2017</td>\n",
       "    </tr>\n",
       "    <tr>\n",
       "      <th>1499</th>\n",
       "      <td>1499</td>\n",
       "      <td>500</td>\n",
       "      <td>ABM Industries</td>\n",
       "      <td>110000.0</td>\n",
       "      <td>485</td>\n",
       "      <td>5145.0</td>\n",
       "      <td>-2.8</td>\n",
       "      <td>57.2</td>\n",
       "      <td>-25.0</td>\n",
       "      <td>2281.0</td>\n",
       "      <td>2428.0</td>\n",
       "      <td>2017</td>\n",
       "    </tr>\n",
       "  </tbody>\n",
       "</table>\n",
       "<p>1500 rows × 12 columns</p>\n",
       "</div>"
      ],
      "text/plain": [
       "      Unnamed: 0  Rank        Company Name  Number of Employees  \\\n",
       "0              0     1             Walmart            2200000.0   \n",
       "1              1     2         Exxon Mobil              71000.0   \n",
       "2              2     3               Apple             132000.0   \n",
       "3              3     4  Berkshire Hathaway             389000.0   \n",
       "4              4     5          Amazon.com             647500.0   \n",
       "...          ...   ...                 ...                  ...   \n",
       "1495        1495   496       Michaels Cos.              31000.0   \n",
       "1496        1496   497       Toll Brothers               4200.0   \n",
       "1497        1497   498               Yahoo               8500.0   \n",
       "1498        1498   499       Vistra Energy               4431.0   \n",
       "1499        1499   500      ABM Industries             110000.0   \n",
       "\n",
       "     Change in Rank  Revenues ($millions)  Revenue Change  \\\n",
       "0                 -              514405.0             2.8   \n",
       "1                 -              290212.0            18.8   \n",
       "2                 1              265595.0            15.9   \n",
       "3                -1              247837.0             2.4   \n",
       "4                 3              232887.0            30.9   \n",
       "...             ...                   ...             ...   \n",
       "1495            517                5197.0             5.8   \n",
       "1496            576                5170.0            23.9   \n",
       "1497            513                5169.0             4.0   \n",
       "1498            NaN                5164.0             0.0   \n",
       "1499            485                5145.0            -2.8   \n",
       "\n",
       "      Profits ($millions)  Profit Change  Assets ($millions)  \\\n",
       "0                  6670.0          -32.4            219295.0   \n",
       "1                 20840.0            5.7            346196.0   \n",
       "2                 59531.0           23.1            365725.0   \n",
       "3                  4021.0          -91.1            707794.0   \n",
       "4                 10073.0          232.1            162648.0   \n",
       "...                   ...            ...                 ...   \n",
       "1495                378.2            4.2              2148.0   \n",
       "1496                382.1            5.2              9737.0   \n",
       "1497               -214.3            0.0             48083.0   \n",
       "1498                  0.0            0.0             15167.0   \n",
       "1499                 57.2          -25.0              2281.0   \n",
       "\n",
       "      Market Value As of 3/29/19 ($m)  Year  \n",
       "0                            279880.0  2019  \n",
       "1                            342172.0  2019  \n",
       "2                            895667.0  2019  \n",
       "3                            493870.0  2019  \n",
       "4                            874710.0  2019  \n",
       "...                               ...   ...  \n",
       "1495                           4229.0  2017  \n",
       "1496                           5872.0  2017  \n",
       "1497                          44391.0  2017  \n",
       "1498                           6968.0  2017  \n",
       "1499                           2428.0  2017  \n",
       "\n",
       "[1500 rows x 12 columns]"
      ]
     },
     "execution_count": 2,
     "metadata": {},
     "output_type": "execute_result"
    }
   ],
   "source": [
    "df = pd.read_csv(\"CleanedFortune.csv\")\n",
    "df"
   ]
  },
  {
   "cell_type": "code",
   "execution_count": 3,
   "metadata": {},
   "outputs": [
    {
     "data": {
      "text/plain": [
       "<matplotlib.axes._subplots.AxesSubplot at 0x7facd1ace5c0>"
      ]
     },
     "execution_count": 3,
     "metadata": {},
     "output_type": "execute_result"
    },
    {
     "data": {
      "image/png": "[encoded data removed]",
      "text/plain": [
       "<Figure size 432x288 with 1 Axes>"
      ]
     },
     "metadata": {
      "needs_background": "light"
     },
     "output_type": "display_data"
    }
   ],
   "source": [
    "##Plotting the avg Revenue against the company names for the top 5 Fortune500 companies.\n",
    "table0 = df[(df['Company Name'] == 'Walmart') | \n",
    "            (df['Company Name'] == 'Exxon Mobil') |\n",
    "            (df['Company Name'] == 'Apple') |\n",
    "            (df['Company Name'] == 'Berkshire Hathaway') |\n",
    "            (df['Company Name'] == 'Amazon.com')].pivot_table(values='Revenues ($millions)', index=['Company Name'], columns=[], aggfunc=np.mean)\n",
    "\n",
    "table0.plot.bar()"
   ]
  },
  {
   "cell_type": "markdown",
   "metadata": {},
   "source": [
    "The above plot shows the top 5 companies in the fortune500 and their average Revenues (in $millions) over the 3 years, namely 2017, 2018, and 2019.\n",
    "From the above bar plot, Walmart clearly has a significant higher revenue than the next top 4 companies with about an average revenue of 500,207 million Dollars. Following Walmart, the next 3 companies: Exxon Mobil, Apple, and Berkshire Hathaway do not have a as huge difference in their average revenues for 2017, 2018, and 2019. Lastly, the e-commerce website 'Amazon' clinches the 5th spot with an average revenue of 182,246 million Dollars."
   ]
  },
  {
   "cell_type": "code",
   "execution_count": 4,
   "metadata": {},
   "outputs": [
    {
     "data": {
      "text/html": [
       "<div>\n",
       "<style scoped>\n",
       "    .dataframe tbody tr th:only-of-type {\n",
       "        vertical-align: middle;\n",
       "    }\n",
       "\n",
       "    .dataframe tbody tr th {\n",
       "        vertical-align: top;\n",
       "    }\n",
       "\n",
       "    .dataframe thead th {\n",
       "        text-align: right;\n",
       "    }\n",
       "</style>\n",
       "<table border=\"1\" class=\"dataframe\">\n",
       "  <thead>\n",
       "    <tr style=\"text-align: right;\">\n",
       "      <th></th>\n",
       "      <th>Revenues ($millions)</th>\n",
       "    </tr>\n",
       "    <tr>\n",
       "      <th>Company Name</th>\n",
       "      <th></th>\n",
       "    </tr>\n",
       "  </thead>\n",
       "  <tbody>\n",
       "    <tr>\n",
       "      <th>Amazon.com</th>\n",
       "      <td>182246.666667</td>\n",
       "    </tr>\n",
       "    <tr>\n",
       "      <th>Apple</th>\n",
       "      <td>236822.666667</td>\n",
       "    </tr>\n",
       "    <tr>\n",
       "      <th>Berkshire Hathaway</th>\n",
       "      <td>237859.333333</td>\n",
       "    </tr>\n",
       "    <tr>\n",
       "      <th>Exxon Mobil</th>\n",
       "      <td>246526.333333</td>\n",
       "    </tr>\n",
       "    <tr>\n",
       "      <th>Walmart</th>\n",
       "      <td>500207.000000</td>\n",
       "    </tr>\n",
       "  </tbody>\n",
       "</table>\n",
       "</div>"
      ],
      "text/plain": [
       "                    Revenues ($millions)\n",
       "Company Name                            \n",
       "Amazon.com                 182246.666667\n",
       "Apple                      236822.666667\n",
       "Berkshire Hathaway         237859.333333\n",
       "Exxon Mobil                246526.333333\n",
       "Walmart                    500207.000000"
      ]
     },
     "execution_count": 4,
     "metadata": {},
     "output_type": "execute_result"
    }
   ],
   "source": [
    "table0"
   ]
  },
  {
   "cell_type": "code",
   "execution_count": 5,
   "metadata": {},
   "outputs": [
    {
     "data": {
      "text/plain": [
       "<matplotlib.axes._subplots.AxesSubplot at 0x7faccf3b97f0>"
      ]
     },
     "execution_count": 5,
     "metadata": {},
     "output_type": "execute_result"
    },
    {
     "data": {
      "image/png": "[encoded data removed]",
      "text/plain": [
       "<Figure size 432x288 with 1 Axes>"
      ]
     },
     "metadata": {
      "needs_background": "light"
     },
     "output_type": "display_data"
    }
   ],
   "source": [
    "#Plotting the Assets against the company names for the top 5 Fortune500 companies.\n",
    "table1 = df[(df['Company Name'] == 'Walmart') | \n",
    "            (df['Company Name'] == 'Exxon Mobil') |\n",
    "            (df['Company Name'] == 'Apple') |\n",
    "            (df['Company Name'] == 'Berkshire Hathaway') |\n",
    "            (df['Company Name'] == 'Amazon.com')].pivot_table(values='Assets ($millions)', index=['Company Name'], columns=[], aggfunc=np.mean)\n",
    "\n",
    "table1.plot.bar()"
   ]
  },
  {
   "cell_type": "markdown",
   "metadata": {},
   "source": [
    "The above plot shows the top 5 companies in the fortune500 and their average Assets (in $millions) over the 3 years, namely 2017, 2018, and 2019.\n",
    "From the above bar plot, Berkshire Hathaway clearly has a significant higher Assets value than the next top 4 companies with about an average Assets value of 676,914 million Dollars. Following Berkshire Hathaway, the next 2 companies: Apple, and Exxon Mobil do not have a as huge difference in their average Assets for 2017, 2018, and 2019. Lastly, Walmart and Amazon clinch the 4th and 5th spots respectively."
   ]
  },
  {
   "cell_type": "markdown",
   "metadata": {},
   "source": [
    " From the Two above visuals, we can conclude that having a higher Revenue does not translate into having more assets. As we can see that 'Walmart' has a considerably higher revenue than the other top companies. However, when it comes to Assets, Walmart comes at the 4th spot, with a massive difference between its assets and that of Berkshire Hathaway. Therefore, we can conclude that having a higher revenue does not necessarily mean that the company also has the most Assets."
   ]
  },
  {
   "cell_type": "code",
   "execution_count": 6,
   "metadata": {},
   "outputs": [
    {
     "data": {
      "text/html": [
       "<div>\n",
       "<style scoped>\n",
       "    .dataframe tbody tr th:only-of-type {\n",
       "        vertical-align: middle;\n",
       "    }\n",
       "\n",
       "    .dataframe tbody tr th {\n",
       "        vertical-align: top;\n",
       "    }\n",
       "\n",
       "    .dataframe thead th {\n",
       "        text-align: right;\n",
       "    }\n",
       "</style>\n",
       "<table border=\"1\" class=\"dataframe\">\n",
       "  <thead>\n",
       "    <tr style=\"text-align: right;\">\n",
       "      <th></th>\n",
       "      <th>Assets ($millions)</th>\n",
       "    </tr>\n",
       "    <tr>\n",
       "      <th>Company Name</th>\n",
       "      <th></th>\n",
       "    </tr>\n",
       "  </thead>\n",
       "  <tbody>\n",
       "    <tr>\n",
       "      <th>Amazon.com</th>\n",
       "      <td>125786.666667</td>\n",
       "    </tr>\n",
       "    <tr>\n",
       "      <th>Apple</th>\n",
       "      <td>354243.333333</td>\n",
       "    </tr>\n",
       "    <tr>\n",
       "      <th>Berkshire Hathaway</th>\n",
       "      <td>676914.333333</td>\n",
       "    </tr>\n",
       "    <tr>\n",
       "      <th>Exxon Mobil</th>\n",
       "      <td>341733.666667</td>\n",
       "    </tr>\n",
       "    <tr>\n",
       "      <th>Walmart</th>\n",
       "      <td>207547.333333</td>\n",
       "    </tr>\n",
       "  </tbody>\n",
       "</table>\n",
       "</div>"
      ],
      "text/plain": [
       "                    Assets ($millions)\n",
       "Company Name                          \n",
       "Amazon.com               125786.666667\n",
       "Apple                    354243.333333\n",
       "Berkshire Hathaway       676914.333333\n",
       "Exxon Mobil              341733.666667\n",
       "Walmart                  207547.333333"
      ]
     },
     "execution_count": 6,
     "metadata": {},
     "output_type": "execute_result"
    }
   ],
   "source": [
    "table1"
   ]
  },
  {
   "cell_type": "code",
   "execution_count": 7,
   "metadata": {},
   "outputs": [],
   "source": [
    "#The two visuals below show the 1) Revenue in the first graph and 2) Assets in the Second graph. And how they changed for each specific country\n",
    "#in the years 2017, 2018, and 2019."
   ]
  },
  {
   "cell_type": "code",
   "execution_count": 8,
   "metadata": {},
   "outputs": [
    {
     "data": {
      "text/plain": [
       "<matplotlib.axes._subplots.AxesSubplot at 0x7faccf34f550>"
      ]
     },
     "execution_count": 8,
     "metadata": {},
     "output_type": "execute_result"
    },
    {
     "data": {
      "image/png": "[encoded data removed]",
      "text/plain": [
       "<Figure size 432x288 with 1 Axes>"
      ]
     },
     "metadata": {
      "needs_background": "light"
     },
     "output_type": "display_data"
    }
   ],
   "source": [
    "table3 = df[(df['Company Name'] == 'Walmart') | \n",
    "            (df['Company Name'] == 'Exxon Mobil') |\n",
    "            (df['Company Name'] == 'Apple') |\n",
    "            (df['Company Name'] == 'Berkshire Hathaway') |\n",
    "            (df['Company Name'] == 'Amazon.com')\n",
    "          ].pivot_table(values='Revenues ($millions)', index=['Company Name'], columns=['Year'])\n",
    "\n",
    "table3.plot.bar()"
   ]
  },
  {
   "cell_type": "markdown",
   "metadata": {},
   "source": [
    "The above visual is for the Revenues and how they changed over the 3 years for the top 5 companies in Fortune500.\n",
    "1) Walmart: Walmart posted a gradual increase (almost at the same rate each year) in its revenue over the 3 years\n",
    "2) Exxon Mobil: Exxon Mobil posted a decent increase in their revenues over the 3 years.\n",
    "3) Berkshire Hathway: Berkshire posted an increase aswell over the 3 years. However, their rate of revenue increase wasn't as high as the other companies. We can conclude this from the height of the bars. The more difference between the bars (of the same company) the bigger the rate of revenue change it is.\n",
    "4) Apple: Apple also posted an increase over the 3 years. However, the increase from 2017 to 2018 wasnt as much as the increase from 2018 to 2019.\n",
    "5) Amazon: Amazon posted an increase over the 3 years aswell. They probably had the highest rate of revenue increase (if not as good as Exxon Mobil). As we can see from the height of the bars.\n"
   ]
  },
  {
   "cell_type": "markdown",
   "metadata": {},
   "source": [
    "The general trend in the above graphs is that the revenue for the top 5 companies posted a steady revenue growth over the 3 years. These results might provide a general insight to the countires economic situation. However, they cannot be used as indicators in any way."
   ]
  },
  {
   "cell_type": "code",
   "execution_count": 9,
   "metadata": {},
   "outputs": [
    {
     "data": {
      "text/plain": [
       "<matplotlib.axes._subplots.AxesSubplot at 0x7faccf26f198>"
      ]
     },
     "execution_count": 9,
     "metadata": {},
     "output_type": "execute_result"
    },
    {
     "data": {
      "image/png": "[encoded data removed]",
      "text/plain": [
       "<Figure size 432x288 with 1 Axes>"
      ]
     },
     "metadata": {
      "needs_background": "light"
     },
     "output_type": "display_data"
    }
   ],
   "source": [
    "table2 = df[(df['Company Name'] == 'Walmart') | \n",
    "            (df['Company Name'] == 'Exxon Mobil') |\n",
    "            (df['Company Name'] == 'Apple') |\n",
    "            (df['Company Name'] == 'Berkshire Hathaway') |\n",
    "            (df['Company Name'] == 'Amazon.com')\n",
    "          ].pivot_table(values='Assets ($millions)', index=['Company Name'], columns=['Year'], aggfunc=np.mean)\n",
    "\n",
    "table2.plot.bar()"
   ]
  },
  {
   "cell_type": "markdown",
   "metadata": {},
   "source": [
    "The above visual is for the Assets and how they changed over the 3 years for the top 5 companies in Fortune500.\n",
    "1) Walmart: Walmart posted a gradual increase in its assets over the 3 years. The increase from 2017 to 2018 wasn't as big as the increase from 2018 to 2019.\n",
    "2) Exxon Mobil: Exxon Mobil had a graudal increase in its assets from 2017 to 2018. However, they slightly decreased from 2018 to 2019.\n",
    "3) Berkshire Hathway: Berkshire posted a significant increase in its assets over the 3 years. The increase from 2017 to 2018 was significant. However, there was only a slight increase in its assets from 2018 to 2019. We can conclude this from the height of the bars.\n",
    "4) Apple: Apple also posted a good increase from 2017 to 2018. However, there was a slight decrease in its assets from 2018 to 2019.\n",
    "5) Amazon: Amazon posted an increase in its assets over the 3 years. A possible explanation for amazon having a significant smaller amounts of assets in comparison to other top 4 companies is probably because it is a e-commerce business which does not necessrily requires as high value of assets as other top 4 companies in comparison."
   ]
  },
  {
   "cell_type": "code",
   "execution_count": null,
   "metadata": {},
   "outputs": [],
   "source": []
  }
 ],
 "metadata": {
  "kernelspec": {
   "display_name": "Python 3",
   "language": "python",
   "name": "python3"
  },
  "language_info": {
   "codemirror_mode": {
    "name": "ipython",
    "version": 3
   },
   "file_extension": ".py",
   "mimetype": "text/x-python",
   "name": "python",
   "nbconvert_exporter": "python",
   "pygments_lexer": "ipython3",
   "version": "3.6.8"
  }
 },
 "nbformat": 4,
 "nbformat_minor": 4
}
