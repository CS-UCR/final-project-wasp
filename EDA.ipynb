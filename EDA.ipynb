{
 "cells": [
  {
   "cell_type": "code",
   "execution_count": null,
   "metadata": {},
   "outputs": [],
   "source": [
    "import matplotlib.pyplot as plt\n",
    "import pandas as pd\n",
    "import numpy as np"
   ]
  },
  {
   "cell_type": "code",
   "execution_count": null,
   "metadata": {},
   "outputs": [],
   "source": [
    "df = pd.read_csv(\"CleanedFortune.csv\")\n",
    "df"
   ]
  },
  {
   "cell_type": "code",
   "execution_count": null,
   "metadata": {},
   "outputs": [],
   "source": [
    "##Plotting the avg Revenue against the company names for the top 5 Fortune500 companies.\n",
    "table0 = df[(df['Company Name'] == 'Walmart') | \n",
    "            (df['Company Name'] == 'Exxon Mobil') |\n",
    "            (df['Company Name'] == 'Apple') |\n",
    "            (df['Company Name'] == 'Berkshire Hathaway') |\n",
    "            (df['Company Name'] == 'Amazon.com')].pivot_table(values='Revenues ($millions)', index=['Company Name'], columns=[], aggfunc=np.mean)\n",
    "\n",
    "table0.plot.bar()"
   ]
  },
  {
   "cell_type": "markdown",
   "metadata": {},
   "source": [
    "The above plot shows the top 5 companies in the fortune500 and their average Revenues (in $millions) over the 3 years, namely 2017, 2018, and 2019.\n",
    "From the above bar plot, Walmart clearly has a significant higher revenue than the next top 4 companies with about an average revenue of 500,207 million Dollars. Following Walmart, the next 3 companies: Exxon Mobil, Apple, and Berkshire Hathaway do not have a as huge difference in their average revenues for 2017, 2018, and 2019. Lastly, the e-commerce website 'Amazon' clinches the 5th spot with an average revenue of 182,246 million Dollars."
   ]
  },
  {
   "cell_type": "code",
   "execution_count": null,
   "metadata": {},
   "outputs": [],
   "source": [
    "table0"
   ]
  },
  {
   "cell_type": "code",
   "execution_count": null,
   "metadata": {},
   "outputs": [],
   "source": [
    "#Plotting the Assets against the company names for the top 5 Fortune500 companies.\n",
    "table1 = df[(df['Company Name'] == 'Walmart') | \n",
    "            (df['Company Name'] == 'Exxon Mobil') |\n",
    "            (df['Company Name'] == 'Apple') |\n",
    "            (df['Company Name'] == 'Berkshire Hathaway') |\n",
    "            (df['Company Name'] == 'Amazon.com')].pivot_table(values='Assets ($millions)', index=['Company Name'], columns=[], aggfunc=np.mean)\n",
    "\n",
    "table1.plot.bar()"
   ]
  },
  {
   "cell_type": "markdown",
   "metadata": {},
   "source": [
    "The above plot shows the top 5 companies in the fortune500 and their average Assets (in $millions) over the 3 years, namely 2017, 2018, and 2019.\n",
    "From the above bar plot, Berkshire Hathaway clearly has a significant higher Assets value than the next top 4 companies with about an average Assets value of 676,914 million Dollars. Following Berkshire Hathaway, the next 2 companies: Apple, and Exxon Mobil do not have a as huge difference in their average Assets for 2017, 2018, and 2019. Lastly, Walmart and Amazon clinch the 4th and 5th spots respectively."
   ]
  },
  {
   "cell_type": "markdown",
   "metadata": {},
   "source": [
    " From the Two above visuals, we can conclude that having a higher Revenue does not translate into having more assets. As we can see that 'Walmart' has a considerably higher revenue than the other top companies. However, when it comes to Assets, Walmart comes at the 4th spot, with a massive difference between its assets and that of Berkshire Hathaway. Therefore, we can conclude that having a higher revenue does not necessarily mean that the company also has the most Assets."
   ]
  },
  {
   "cell_type": "code",
   "execution_count": null,
   "metadata": {},
   "outputs": [],
   "source": [
    "table1"
   ]
  },
  {
   "cell_type": "code",
   "execution_count": null,
   "metadata": {},
   "outputs": [],
   "source": [
    "#The two visuals below show the 1) Revenue in the first graph and 2) Assets in the Second graph. And how they changed for each specific country\n",
    "#in the years 2017, 2018, and 2019."
   ]
  },
  {
   "cell_type": "code",
   "execution_count": null,
   "metadata": {},
   "outputs": [],
   "source": [
    "table3 = df[(df['Company Name'] == 'Walmart') | \n",
    "            (df['Company Name'] == 'Exxon Mobil') |\n",
    "            (df['Company Name'] == 'Apple') |\n",
    "            (df['Company Name'] == 'Berkshire Hathaway') |\n",
    "            (df['Company Name'] == 'Amazon.com')\n",
    "          ].pivot_table(values='Revenues ($millions)', index=['Company Name'], columns=['Year'])\n",
    "\n",
    "table3.plot.bar()"
   ]
  },
  {
   "cell_type": "markdown",
   "metadata": {},
   "source": [
    "The above visual is for the Revenues and how they changed over the 3 years for the top 5 companies in Fortune500.\n",
    "1) Walmart: Walmart posted a gradual increase (almost at the same rate each year) in its revenue over the 3 years\n",
    "2) Exxon Mobil: Exxon Mobil posted a decent increase in their revenues over the 3 years.\n",
    "3) Berkshire Hathway: Berkshire posted an increase aswell over the 3 years. However, their rate of revenue increase wasn't as high as the other companies. We can conclude this from the height of the bars. The more difference between the bars (of the same company) the bigger the rate of revenue change it is.\n",
    "4) Apple: Apple also posted an increase over the 3 years. However, the increase from 2017 to 2018 wasnt as much as the increase from 2018 to 2019.\n",
    "5) Amazon: Amazon posted an increase over the 3 years aswell. They probably had the highest rate of revenue increase (if not as good as Exxon Mobil). As we can see from the height of the bars.\n"
   ]
  },
  {
   "cell_type": "markdown",
   "metadata": {},
   "source": [
    "The general trend in the above graphs is that the revenue for the top 5 companies posted a steady revenue growth over the 3 years. These results might provide a general insight to the countires economic situation. However, they cannot be used as indicators in any way."
   ]
  },
  {
   "cell_type": "code",
   "execution_count": null,
   "metadata": {},
   "outputs": [],
   "source": [
    "table2 = df[(df['Company Name'] == 'Walmart') | \n",
    "            (df['Company Name'] == 'Exxon Mobil') |\n",
    "            (df['Company Name'] == 'Apple') |\n",
    "            (df['Company Name'] == 'Berkshire Hathaway') |\n",
    "            (df['Company Name'] == 'Amazon.com')\n",
    "          ].pivot_table(values='Assets ($millions)', index=['Company Name'], columns=['Year'], aggfunc=np.mean)\n",
    "\n",
    "table2.plot.bar()"
   ]
  }
 ],
 "metadata": {
  "kernelspec": {
   "display_name": "Python 3",
   "language": "python",
   "name": "python3"
  },
  "language_info": {
   "codemirror_mode": {
    "name": "ipython",
    "version": 3
   },
   "file_extension": ".py",
   "mimetype": "text/x-python",
   "name": "python",
   "nbconvert_exporter": "python",
   "pygments_lexer": "ipython3",
   "version": "3.6.8"
  }
 },
 "nbformat": 4,
 "nbformat_minor": 4
}
