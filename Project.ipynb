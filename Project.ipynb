import requests
from bs4 import BeautifulSoup
import pandas as pd
url ='https://www.slickcharts.com/sp500'

page = requests.get(url)
page.text
soup = BeautifulSoup (page.text, 'html.parser')

read company names
name_text = []
company_name_elem = soup.find_all("a")

for item in company_name_elem:
    name_text.append(item.text)
    
name_text[23::2];

#Read company symbol
symbol_text = []
company_symbol_elem = soup.find_all("a")

for item in company_symbol_elem:
    symbol_text.append(item.text)
    
symbol_text[24::2];


# Read Weight
weight_text = []
company_weight_elem = soup.find_all("td")

for item in company_weight_elem:
    weight_text.append(item.text)
    
weight_text[3::7];


# Read Price
price_text = []
company_price_elem = soup.find_all("td")

for item in company_price_elem:
    price_text.append(item.text)
    
price_text[4::7];

# Read Change
change_text = []
company_change_elem = soup.find_all(class_="text-nowrap")

for item in company_change_elem:
    change_text.append(item.text)
    
change_text[1::3];

# Read % Change
percent_text = []
company_percent_elem = soup.find_all(class_="text-nowrap")

for item in company_percent_elem:
    percent_text.append(item.text)
    
percent_text[2::3];

# Create dataframe

final_array = []

for company, symbol, weight, price, change, percent in zip(name_text[23::2],symbol_text[24::2],weight_text[3::7],price_text[4::7],change_text[1::3],percent_text[2::3]):
    final_array.append({'Name':company,'Symbol':symbol,'Weight':weight,'Price':price,'Change':change,'Percent':percent})
    
df = pd.DataFrame(final_array)
df
