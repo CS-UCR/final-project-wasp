{
 "cells": [
  {
   "cell_type": "code",
   "execution_count": 6,
   "metadata": {},
   "outputs": [],
   "source": [
    "import matplotlib.pyplot as plt\n",
    "import pandas as pd\n",
    "import numpy as np\n",
    "from sklearn.linear_model import LinearRegression"
   ]
  },
  {
   "cell_type": "code",
   "execution_count": 7,
   "metadata": {},
   "outputs": [
    {
     "data": {
      "text/html": [
       "<div>\n",
       "<style scoped>\n",
       "    .dataframe tbody tr th:only-of-type {\n",
       "        vertical-align: middle;\n",
       "    }\n",
       "\n",
       "    .dataframe tbody tr th {\n",
       "        vertical-align: top;\n",
       "    }\n",
       "\n",
       "    .dataframe thead th {\n",
       "        text-align: right;\n",
       "    }\n",
       "</style>\n",
       "<table border=\"1\" class=\"dataframe\">\n",
       "  <thead>\n",
       "    <tr style=\"text-align: right;\">\n",
       "      <th></th>\n",
       "      <th>Rank</th>\n",
       "      <th>Company Name</th>\n",
       "      <th>Number of Employees</th>\n",
       "      <th>Change in Rank</th>\n",
       "      <th>Revenues ($millions)</th>\n",
       "      <th>Revenue Change</th>\n",
       "      <th>Profits ($millions)</th>\n",
       "      <th>Profit Change</th>\n",
       "      <th>Assets ($millions)</th>\n",
       "      <th>Market Value As of 3/29/19 ($m)</th>\n",
       "      <th>Year</th>\n",
       "    </tr>\n",
       "  </thead>\n",
       "  <tbody>\n",
       "    <tr>\n",
       "      <th>0</th>\n",
       "      <td>1</td>\n",
       "      <td>Walmart</td>\n",
       "      <td>2200000.0</td>\n",
       "      <td>-</td>\n",
       "      <td>514405.0</td>\n",
       "      <td>2.8</td>\n",
       "      <td>6670.0</td>\n",
       "      <td>-32.4</td>\n",
       "      <td>219295.0</td>\n",
       "      <td>279880.0</td>\n",
       "      <td>2019</td>\n",
       "    </tr>\n",
       "    <tr>\n",
       "      <th>1</th>\n",
       "      <td>2</td>\n",
       "      <td>Exxon Mobil</td>\n",
       "      <td>71000.0</td>\n",
       "      <td>-</td>\n",
       "      <td>290212.0</td>\n",
       "      <td>18.8</td>\n",
       "      <td>20840.0</td>\n",
       "      <td>5.7</td>\n",
       "      <td>346196.0</td>\n",
       "      <td>342172.0</td>\n",
       "      <td>2019</td>\n",
       "    </tr>\n",
       "    <tr>\n",
       "      <th>2</th>\n",
       "      <td>3</td>\n",
       "      <td>Apple</td>\n",
       "      <td>132000.0</td>\n",
       "      <td>1</td>\n",
       "      <td>265595.0</td>\n",
       "      <td>15.9</td>\n",
       "      <td>59531.0</td>\n",
       "      <td>23.1</td>\n",
       "      <td>365725.0</td>\n",
       "      <td>895667.0</td>\n",
       "      <td>2019</td>\n",
       "    </tr>\n",
       "    <tr>\n",
       "      <th>3</th>\n",
       "      <td>4</td>\n",
       "      <td>Berkshire Hathaway</td>\n",
       "      <td>389000.0</td>\n",
       "      <td>-1</td>\n",
       "      <td>247837.0</td>\n",
       "      <td>2.4</td>\n",
       "      <td>4021.0</td>\n",
       "      <td>-91.1</td>\n",
       "      <td>707794.0</td>\n",
       "      <td>493870.0</td>\n",
       "      <td>2019</td>\n",
       "    </tr>\n",
       "    <tr>\n",
       "      <th>4</th>\n",
       "      <td>5</td>\n",
       "      <td>Amazon.com</td>\n",
       "      <td>647500.0</td>\n",
       "      <td>3</td>\n",
       "      <td>232887.0</td>\n",
       "      <td>30.9</td>\n",
       "      <td>10073.0</td>\n",
       "      <td>232.1</td>\n",
       "      <td>162648.0</td>\n",
       "      <td>874710.0</td>\n",
       "      <td>2019</td>\n",
       "    </tr>\n",
       "    <tr>\n",
       "      <th>...</th>\n",
       "      <td>...</td>\n",
       "      <td>...</td>\n",
       "      <td>...</td>\n",
       "      <td>...</td>\n",
       "      <td>...</td>\n",
       "      <td>...</td>\n",
       "      <td>...</td>\n",
       "      <td>...</td>\n",
       "      <td>...</td>\n",
       "      <td>...</td>\n",
       "      <td>...</td>\n",
       "    </tr>\n",
       "    <tr>\n",
       "      <th>1495</th>\n",
       "      <td>496</td>\n",
       "      <td>Michaels Cos.</td>\n",
       "      <td>31000.0</td>\n",
       "      <td>517</td>\n",
       "      <td>5197.0</td>\n",
       "      <td>5.8</td>\n",
       "      <td>378.2</td>\n",
       "      <td>4.2</td>\n",
       "      <td>2148.0</td>\n",
       "      <td>4229.0</td>\n",
       "      <td>2017</td>\n",
       "    </tr>\n",
       "    <tr>\n",
       "      <th>1496</th>\n",
       "      <td>497</td>\n",
       "      <td>Toll Brothers</td>\n",
       "      <td>4200.0</td>\n",
       "      <td>576</td>\n",
       "      <td>5170.0</td>\n",
       "      <td>23.9</td>\n",
       "      <td>382.1</td>\n",
       "      <td>5.2</td>\n",
       "      <td>9737.0</td>\n",
       "      <td>5872.0</td>\n",
       "      <td>2017</td>\n",
       "    </tr>\n",
       "    <tr>\n",
       "      <th>1497</th>\n",
       "      <td>498</td>\n",
       "      <td>Yahoo</td>\n",
       "      <td>8500.0</td>\n",
       "      <td>513</td>\n",
       "      <td>5169.0</td>\n",
       "      <td>4.0</td>\n",
       "      <td>-214.3</td>\n",
       "      <td>0.0</td>\n",
       "      <td>48083.0</td>\n",
       "      <td>44391.0</td>\n",
       "      <td>2017</td>\n",
       "    </tr>\n",
       "    <tr>\n",
       "      <th>1498</th>\n",
       "      <td>499</td>\n",
       "      <td>Vistra Energy</td>\n",
       "      <td>4431.0</td>\n",
       "      <td>NaN</td>\n",
       "      <td>5164.0</td>\n",
       "      <td>0.0</td>\n",
       "      <td>0.0</td>\n",
       "      <td>0.0</td>\n",
       "      <td>15167.0</td>\n",
       "      <td>6968.0</td>\n",
       "      <td>2017</td>\n",
       "    </tr>\n",
       "    <tr>\n",
       "      <th>1499</th>\n",
       "      <td>500</td>\n",
       "      <td>ABM Industries</td>\n",
       "      <td>110000.0</td>\n",
       "      <td>485</td>\n",
       "      <td>5145.0</td>\n",
       "      <td>-2.8</td>\n",
       "      <td>57.2</td>\n",
       "      <td>-25.0</td>\n",
       "      <td>2281.0</td>\n",
       "      <td>2428.0</td>\n",
       "      <td>2017</td>\n",
       "    </tr>\n",
       "  </tbody>\n",
       "</table>\n",
       "<p>1500 rows × 11 columns</p>\n",
       "</div>"
      ],
      "text/plain": [
       "      Rank        Company Name  Number of Employees Change in Rank  \\\n",
       "0        1             Walmart            2200000.0              -   \n",
       "1        2         Exxon Mobil              71000.0              -   \n",
       "2        3               Apple             132000.0              1   \n",
       "3        4  Berkshire Hathaway             389000.0             -1   \n",
       "4        5          Amazon.com             647500.0              3   \n",
       "...    ...                 ...                  ...            ...   \n",
       "1495   496       Michaels Cos.              31000.0            517   \n",
       "1496   497       Toll Brothers               4200.0            576   \n",
       "1497   498               Yahoo               8500.0            513   \n",
       "1498   499       Vistra Energy               4431.0            NaN   \n",
       "1499   500      ABM Industries             110000.0            485   \n",
       "\n",
       "      Revenues ($millions)  Revenue Change  Profits ($millions)  \\\n",
       "0                 514405.0             2.8               6670.0   \n",
       "1                 290212.0            18.8              20840.0   \n",
       "2                 265595.0            15.9              59531.0   \n",
       "3                 247837.0             2.4               4021.0   \n",
       "4                 232887.0            30.9              10073.0   \n",
       "...                    ...             ...                  ...   \n",
       "1495                5197.0             5.8                378.2   \n",
       "1496                5170.0            23.9                382.1   \n",
       "1497                5169.0             4.0               -214.3   \n",
       "1498                5164.0             0.0                  0.0   \n",
       "1499                5145.0            -2.8                 57.2   \n",
       "\n",
       "      Profit Change  Assets ($millions)  Market Value As of 3/29/19 ($m)  Year  \n",
       "0             -32.4            219295.0                         279880.0  2019  \n",
       "1               5.7            346196.0                         342172.0  2019  \n",
       "2              23.1            365725.0                         895667.0  2019  \n",
       "3             -91.1            707794.0                         493870.0  2019  \n",
       "4             232.1            162648.0                         874710.0  2019  \n",
       "...             ...                 ...                              ...   ...  \n",
       "1495            4.2              2148.0                           4229.0  2017  \n",
       "1496            5.2              9737.0                           5872.0  2017  \n",
       "1497            0.0             48083.0                          44391.0  2017  \n",
       "1498            0.0             15167.0                           6968.0  2017  \n",
       "1499          -25.0              2281.0                           2428.0  2017  \n",
       "\n",
       "[1500 rows x 11 columns]"
      ]
     },
     "execution_count": 7,
     "metadata": {},
     "output_type": "execute_result"
    }
   ],
   "source": [
    "df = pd.read_csv(\"CleanedFortune.csv\")\n",
    "#Dropping the Unnamed column\n",
    "df = df.drop('Unnamed: 0', 1)\n",
    "df"
   ]
  },
  {
   "cell_type": "code",
   "execution_count": 111,
   "metadata": {},
   "outputs": [
    {
     "data": {
      "text/plain": [
       "0        2.8\n",
       "1       18.8\n",
       "2       15.9\n",
       "3        2.4\n",
       "4       30.9\n",
       "        ... \n",
       "1495     5.8\n",
       "1496    23.9\n",
       "1497     4.0\n",
       "1498     0.0\n",
       "1499    -2.8\n",
       "Name: Revenue Change, Length: 1500, dtype: float64"
      ]
     },
     "execution_count": 111,
     "metadata": {},
     "output_type": "execute_result"
    }
   ],
   "source": [
    "df['Revenue Change']"
   ]
  },
  {
   "cell_type": "code",
   "execution_count": 124,
   "metadata": {},
   "outputs": [
    {
     "data": {
      "text/plain": [
       "<matplotlib.axes._subplots.AxesSubplot at 0x7f8b7471b908>"
      ]
     },
     "execution_count": 124,
     "metadata": {},
     "output_type": "execute_result"
    },
    {
     "data": {
      "image/png": "[encoded data removed]",
      "text/plain": [
       "<Figure size 432x288 with 1 Axes>"
      ]
     },
     "metadata": {
      "needs_background": "light"
     },
     "output_type": "display_data"
    }
   ],
   "source": [
    "#Fitting a linear regression model that predicts the RANK of a comapny  \n",
    "#using rge change in revenue as the only feature. \n",
    "\n",
    "AH_train = df.loc[:1275].copy()\n",
    "AH_test = df.loc[1276:].copy()\n",
    "\n",
    "x_train = AH_train[[\"Profit Change\"]]\n",
    "x_test = AH_test[[\"Profit Change\"]]\n",
    "y_train = AH_train['Rank']\n",
    "\n",
    "model = LinearRegression()\n",
    "model.fit(X = x_train, y = y_train)\n",
    "model.predict(X = x_test)\n",
    "\n",
    "X_new = pd.DataFrame()\n",
    "X_new['Profit Change'] = np.linspace(-12000, 25000, num = 1500)\n",
    "\n",
    "y_new = pd.Series(\n",
    "model.predict(X_new),\n",
    "index=X_new['Profit Change']\n",
    ")\n",
    "\n",
    "AH_train.plot.scatter(x = \"Profit Change\", y = \"Rank\")\n",
    "y_new.plot.line()\n"
   ]
  },
  {
   "cell_type": "code",
   "execution_count": 119,
   "metadata": {},
   "outputs": [
    {
     "data": {
      "text/plain": [
       "[<matplotlib.lines.Line2D at 0x7f8b751a1400>]"
      ]
     },
     "execution_count": 119,
     "metadata": {},
     "output_type": "execute_result"
    },
    {
     "data": {
      "image/png": "[encoded data removed]",
      "text/plain": [
       "<Figure size 432x288 with 1 Axes>"
      ]
     },
     "metadata": {
      "needs_background": "light"
     },
     "output_type": "display_data"
    }
   ],
   "source": [
    "X_train = df[[\"Profit Change\"]]\n",
    "y_train = df[\"Rank\"]\n",
    "\n",
    "model = LinearRegression()\n",
    "model.fit(X=X_train, y=y_train)\n",
    "\n",
    "model.predict(X=X_train)\n",
    "y = model.coef_ * df[\"Profit Change\"] + model.intercept_\n",
    "df.plot.scatter(x=\"Profit Change\", y=\"Rank\")\n",
    "plt.plot(df[\"Profit Change\"], y)"
   ]
  },
  {
   "cell_type": "code",
   "execution_count": 65,
   "metadata": {},
   "outputs": [
    {
     "data": {
      "text/plain": [
       "<matplotlib.axes._subplots.AxesSubplot at 0x7f8b7532d7b8>"
      ]
     },
     "execution_count": 65,
     "metadata": {},
     "output_type": "execute_result"
    },
    {
     "data": {
      "image/png": "[encoded data removed]",
      "text/plain": [
       "<Figure size 432x288 with 1 Axes>"
      ]
     },
     "metadata": {
      "needs_background": "light"
     },
     "output_type": "display_data"
    }
   ],
   "source": [
    "#Fitting a linear regression model that predicts the RANK of a comapny  \n",
    "#using Number of Employees as the only feature. \n",
    "\n",
    "AH_train = df.loc[:1275].copy()\n",
    "AH_test = df.loc[1276:].copy()\n",
    "\n",
    "x_train = AH_train[[\"Number of Employees\"]]\n",
    "x_test = AH_test[[\"Number of Employees\"]]\n",
    "y_train = AH_train['Rank']\n",
    "\n",
    "model = LinearRegression()\n",
    "model.fit(X = x_train, y = y_train)\n",
    "model.predict(X = x_test)\n",
    "\n",
    "X_new = pd.DataFrame()\n",
    "X_new['Number of Employees'] = np.linspace(0, 2600000, num = 1500)\n",
    "\n",
    "y_new = pd.Series(\n",
    "model.predict(X_new),\n",
    "index=X_new['Number of Employees']\n",
    ")\n",
    "\n",
    "AH_train.plot.scatter(x = \"Number of Employees\", y = \"Rank\")\n",
    "y_new.plot.line()"
   ]
  },
  {
   "cell_type": "code",
   "execution_count": 69,
   "metadata": {},
   "outputs": [
    {
     "data": {
      "text/plain": [
       "<matplotlib.axes._subplots.AxesSubplot at 0x7f8b751ca278>"
      ]
     },
     "execution_count": 69,
     "metadata": {},
     "output_type": "execute_result"
    },
    {
     "data": {
      "image/png": "[encoded data removed]",
      "text/plain": [
       "<Figure size 432x288 with 1 Axes>"
      ]
     },
     "metadata": {
      "needs_background": "light"
     },
     "output_type": "display_data"
    }
   ],
   "source": [
    "#Fitting a linear regression model that predicts the rank of a comapny  \n",
    "#using Revenues as the only feature. \n",
    "\n",
    "AH_train = df.loc[:1275].copy()\n",
    "AH_test = df.loc[1276:].copy()\n",
    "\n",
    "x_train = AH_train[[\"Revenues ($millions)\"]]\n",
    "x_test = AH_test[[\"Revenues ($millions)\"]]\n",
    "y_train = AH_train['Rank']\n",
    "\n",
    "model = LinearRegression()\n",
    "model.fit(X = x_train, y = y_train)\n",
    "model.predict(X = x_test)\n",
    "\n",
    "X_new = pd.DataFrame()\n",
    "X_new['Revenues ($millions)'] = np.linspace(0, 550000, num = 1500)\n",
    "\n",
    "y_new = pd.Series(\n",
    "model.predict(X_new),\n",
    "index=X_new['Revenues ($millions)']\n",
    ")\n",
    "\n",
    "AH_train.plot.scatter(x = \"Revenues ($millions)\", y = \"Rank\")\n",
    "y_new.plot.line()"
   ]
  },
  {
   "cell_type": "code",
   "execution_count": 70,
   "metadata": {},
   "outputs": [
    {
     "data": {
      "text/plain": [
       "<matplotlib.axes._subplots.AxesSubplot at 0x7f8b7513b630>"
      ]
     },
     "execution_count": 70,
     "metadata": {},
     "output_type": "execute_result"
    },
    {
     "data": {
      "image/png": "[encoded data removed]",
      "text/plain": [
       "<Figure size 432x288 with 1 Axes>"
      ]
     },
     "metadata": {
      "needs_background": "light"
     },
     "output_type": "display_data"
    }
   ],
   "source": [
    "#Fitting a linear regression model that predicts the rank of a comapny  \n",
    "#using Assets as the only feature.\n",
    "\n",
    "AH_train = df.loc[:1275].copy()\n",
    "AH_test = df.loc[1276:].copy()\n",
    "\n",
    "x_train = AH_train[[\"Assets ($millions)\"]]\n",
    "x_test = AH_test[[\"Assets ($millions)\"]]\n",
    "y_train = AH_train['Rank']\n",
    "\n",
    "model = LinearRegression()\n",
    "model.fit(X = x_train, y = y_train)\n",
    "model.predict(X = x_test)\n",
    "\n",
    "X_new = pd.DataFrame()\n",
    "X_new['Assets ($millions)'] = np.linspace(0, 3500000, num = 1500)\n",
    "\n",
    "y_new = pd.Series(\n",
    "model.predict(X_new),\n",
    "index=X_new['Assets ($millions)']\n",
    ")\n",
    "\n",
    "AH_train.plot.scatter(x = \"Assets ($millions)\", y = \"Rank\")\n",
    "y_new.plot.line()"
   ]
  },
  {
   "cell_type": "code",
   "execution_count": 99,
   "metadata": {},
   "outputs": [
    {
     "data": {
      "text/plain": [
       "<matplotlib.axes._subplots.AxesSubplot at 0x7f8b7468c8d0>"
      ]
     },
     "execution_count": 99,
     "metadata": {},
     "output_type": "execute_result"
    },
    {
     "data": {
      "image/png": "[encoded data removed]",
      "text/plain": [
       "<Figure size 432x288 with 1 Axes>"
      ]
     },
     "metadata": {
      "needs_background": "light"
     },
     "output_type": "display_data"
    }
   ],
   "source": [
    "#Fitting a linear regression model that predicts the rank of a comapny  \n",
    "#using Profits as the only feature.\n",
    "AH_train = df.loc[:1275].copy()\n",
    "AH_test = df.loc[1276:].copy()\n",
    "\n",
    "x_train = AH_train[[\"Profits ($millions)\"]]\n",
    "x_test = AH_test[[\"Profits ($millions)\"]]\n",
    "y_train = AH_train['Rank']\n",
    "\n",
    "model = LinearRegression()\n",
    "model.fit(X = x_train, y = y_train)\n",
    "model.predict(X = x_test)\n",
    "\n",
    "X_new = pd.DataFrame()\n",
    "X_new['Profits ($millions)'] = np.linspace(0, 65000, num = 1500)\n",
    "\n",
    "y_new = pd.Series(\n",
    "model.predict(X_new),\n",
    "index=X_new['Profits ($millions)']\n",
    ")\n",
    "\n",
    "AH_train.plot.scatter(x = \"Profits ($millions)\", y = \"Rank\")\n",
    "y_new.plot.line()"
   ]
  },
  {
   "cell_type": "code",
   "execution_count": 101,
   "metadata": {},
   "outputs": [
    {
     "data": {
      "text/plain": [
       "array([257.42625984, 263.76274828, 267.62310533, 261.59399228,\n",
       "       261.19524503, 265.67890974, 271.15860903, 263.69632174,\n",
       "       272.24057476, 257.08679519, 265.40874457, 265.18724186,\n",
       "       265.65124929, 269.69951778, 265.0397203 , 271.24760619,\n",
       "       270.42659087, 265.53392651, 265.92024163, 269.71386896,\n",
       "       270.84570519, 263.3783756 , 267.65568347, 267.0898777 ,\n",
       "       270.71335431, 259.10282966, 257.73991975, 270.2485837 ,\n",
       "       268.76902322, 267.14213686, 266.70408186, 264.48779265,\n",
       "       265.73161505, 254.86895829, 269.04600534, 265.1658056 ,\n",
       "       269.30984167, 265.90899603, 266.20592388, 262.3686831 ,\n",
       "       267.92205265, 267.54609592, 269.00285484, 267.80323789,\n",
       "       271.41888089, 270.02969012, 272.44419291, 268.50795439,\n",
       "       267.90867873, 269.43959141, 269.42352289, 268.98609107,\n",
       "       263.98639683, 268.44481135, 268.27012729, 269.53856037,\n",
       "       269.32315822, 267.8879618 , 269.69396177, 267.15902729,\n",
       "       269.11788443, 268.81407711, 268.94991315, 271.07939553,\n",
       "       267.06764721, 266.79756854, 275.24761205, 271.98380364,\n",
       "       273.31255156, 267.46838228, 268.51117478, 271.50565436,\n",
       "       268.95734235, 269.80083076, 270.44721279, 269.45656518,\n",
       "       267.8205546 , 267.73123771, 271.79437198, 269.60414292,\n",
       "       258.99411179, 266.89046788, 269.49316716, 272.46054146,\n",
       "       268.72437732, 268.33769361, 270.64709745, 270.18402459,\n",
       "       265.98427401, 273.12249976, 268.5312977 , 267.35023566,\n",
       "       269.92416104, 271.17751605, 270.93680059, 271.64627023,\n",
       "       270.10654668, 275.13398807, 277.31776722, 280.41951419,\n",
       "       269.61710056, 270.06903851, 276.79011011, 273.49992551,\n",
       "       273.31754221, 268.64319424, 274.10852929, 275.1572237 ,\n",
       "       289.17249869, 272.72121031, 268.39160577, 276.63365131,\n",
       "       264.43325141, 275.7614128 , 279.70737261, 272.95792004,\n",
       "       271.28386379, 274.06600449, 281.28072931, 272.14144257,\n",
       "       272.34272624, 269.03277218, 324.8142229 , 269.92583154,\n",
       "       273.40580191, 270.62827718, 271.1898565 , 274.38233407,\n",
       "       268.47674536, 269.73730652, 272.91237208, 269.66755281,\n",
       "       274.54195308, 271.57474328, 268.75731252, 269.32854644,\n",
       "       273.06047044, 275.83852739, 270.27572099, 271.9525986 ,\n",
       "       274.75052274, 272.18718164, 270.44095781, 272.07279486,\n",
       "       272.71906235, 280.23915893, 274.13392198, 277.88698242,\n",
       "       272.69124538, 273.8537276 , 273.83836439, 270.48252574,\n",
       "       273.06657688, 274.39067541, 270.92500239, 279.62478444,\n",
       "       272.49361414, 272.64645406, 271.25240527, 268.152065  ,\n",
       "       267.28587245, 272.91285213, 271.80252041, 271.22173315,\n",
       "       273.1772343 , 273.64498164, 271.93695413, 275.7822181 ,\n",
       "       274.76233829, 272.15127978, 274.3693546 , 273.26928765,\n",
       "       270.23543744, 273.30186271, 267.23663549, 272.70749104,\n",
       "       272.27484595, 283.1871436 , 267.75113848, 273.00095156,\n",
       "       273.31233604, 273.78712001, 271.52926547, 272.43788481,\n",
       "       276.38202535, 274.9301802 , 277.61196758, 274.49537709,\n",
       "       269.79086906, 273.34707348, 273.38196045, 273.70599836,\n",
       "       272.41319244, 275.56263292, 274.10760171, 300.30291573,\n",
       "       273.56296016, 276.51070325, 272.58142884, 271.95302487,\n",
       "       269.44424161, 273.76453419, 268.59850129, 273.45933409,\n",
       "       275.55022839, 273.85437186, 271.37006182, 272.37589954,\n",
       "       274.93357537, 274.0824642 , 273.92397508, 275.16683053,\n",
       "       274.80638641, 274.141699  , 271.58104101, 274.48593308,\n",
       "       275.01721511, 276.01815211, 276.32374648, 276.97700061,\n",
       "       273.19871649, 273.24016881, 273.64988274, 288.00579329])"
      ]
     },
     "execution_count": 101,
     "metadata": {},
     "output_type": "execute_result"
    }
   ],
   "source": [
    "#Predicting the rank using multiple features (revenue, number of employees, assets, profits)\n",
    "ashen_model = LinearRegression()\n",
    "ashen_model.fit(\n",
    "    X = AH_train[[\"Revenues ($millions)\", \"Number of Employees\", \"Assets ($millions)\", \"Profits ($millions)\"]],\n",
    "    y = AH_train[\"Rank\"]\n",
    ")\n",
    "\n",
    "ashen_model.predict(\n",
    "    X = AH_test[[\"Revenues ($millions)\", \"Number of Employees\", \"Assets ($millions)\", \"Profits ($millions)\"]]\n",
    ")"
   ]
  },
  {
   "cell_type": "code",
   "execution_count": 102,
   "metadata": {},
   "outputs": [
    {
     "data": {
      "text/plain": [
       "array([-2.02423053e-03,  1.31741544e-04, -3.89950437e-05, -1.62347986e-03])"
      ]
     },
     "execution_count": 102,
     "metadata": {},
     "output_type": "execute_result"
    }
   ],
   "source": [
    "ashen_model.coef_"
   ]
  },
  {
   "cell_type": "code",
   "execution_count": 103,
   "metadata": {},
   "outputs": [
    {
     "data": {
      "text/plain": [
       "284.1107002377124"
      ]
     },
     "execution_count": 103,
     "metadata": {},
     "output_type": "execute_result"
    }
   ],
   "source": [
    "ashen_model.intercept_"
   ]
  },
  {
   "cell_type": "code",
   "execution_count": null,
   "metadata": {},
   "outputs": [],
   "source": []
  }
 ],
 "metadata": {
  "kernelspec": {
   "display_name": "Python 3",
   "language": "python",
   "name": "python3"
  },
  "language_info": {
   "codemirror_mode": {
    "name": "ipython",
    "version": 3
   },
   "file_extension": ".py",
   "mimetype": "text/x-python",
   "name": "python",
   "nbconvert_exporter": "python",
   "pygments_lexer": "ipython3",
   "version": "3.6.8"
  }
 },
 "nbformat": 4,
 "nbformat_minor": 4
}
