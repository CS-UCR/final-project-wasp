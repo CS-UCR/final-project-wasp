{
 "cells": [
  {
   "cell_type": "code",
   "execution_count": 1,
   "metadata": {},
   "outputs": [],
   "source": [
    "import matplotlib.pyplot as plt\n",
    "import pandas as pd\n",
    "import numpy as np\n",
    "from sklearn.linear_model import LinearRegression"
   ]
  },
  {
   "cell_type": "code",
   "execution_count": 2,
   "metadata": {},
   "outputs": [
    {
     "data": {
      "text/html": [
       "<div>\n",
       "<style scoped>\n",
       "    .dataframe tbody tr th:only-of-type {\n",
       "        vertical-align: middle;\n",
       "    }\n",
       "\n",
       "    .dataframe tbody tr th {\n",
       "        vertical-align: top;\n",
       "    }\n",
       "\n",
       "    .dataframe thead th {\n",
       "        text-align: right;\n",
       "    }\n",
       "</style>\n",
       "<table border=\"1\" class=\"dataframe\">\n",
       "  <thead>\n",
       "    <tr style=\"text-align: right;\">\n",
       "      <th></th>\n",
       "      <th>Rank</th>\n",
       "      <th>Company Name</th>\n",
       "      <th>Number of Employees</th>\n",
       "      <th>Revenues ($millions)</th>\n",
       "      <th>Revenue Change</th>\n",
       "      <th>Profits ($millions)</th>\n",
       "      <th>Profit Change</th>\n",
       "      <th>Assets ($millions)</th>\n",
       "    </tr>\n",
       "  </thead>\n",
       "  <tbody>\n",
       "    <tr>\n",
       "      <th>0</th>\n",
       "      <td>1</td>\n",
       "      <td>Walmart</td>\n",
       "      <td>2200000.0</td>\n",
       "      <td>514405.0</td>\n",
       "      <td>2.8</td>\n",
       "      <td>6670.0</td>\n",
       "      <td>-32.4</td>\n",
       "      <td>219295.0</td>\n",
       "    </tr>\n",
       "    <tr>\n",
       "      <th>1</th>\n",
       "      <td>2</td>\n",
       "      <td>Exxon Mobil</td>\n",
       "      <td>71000.0</td>\n",
       "      <td>290212.0</td>\n",
       "      <td>18.8</td>\n",
       "      <td>20840.0</td>\n",
       "      <td>5.7</td>\n",
       "      <td>346196.0</td>\n",
       "    </tr>\n",
       "    <tr>\n",
       "      <th>2</th>\n",
       "      <td>3</td>\n",
       "      <td>Apple</td>\n",
       "      <td>132000.0</td>\n",
       "      <td>265595.0</td>\n",
       "      <td>15.9</td>\n",
       "      <td>59531.0</td>\n",
       "      <td>23.1</td>\n",
       "      <td>365725.0</td>\n",
       "    </tr>\n",
       "    <tr>\n",
       "      <th>3</th>\n",
       "      <td>4</td>\n",
       "      <td>Berkshire Hathaway</td>\n",
       "      <td>389000.0</td>\n",
       "      <td>247837.0</td>\n",
       "      <td>2.4</td>\n",
       "      <td>4021.0</td>\n",
       "      <td>-91.1</td>\n",
       "      <td>707794.0</td>\n",
       "    </tr>\n",
       "    <tr>\n",
       "      <th>4</th>\n",
       "      <td>5</td>\n",
       "      <td>Amazon.com</td>\n",
       "      <td>647500.0</td>\n",
       "      <td>232887.0</td>\n",
       "      <td>30.9</td>\n",
       "      <td>10073.0</td>\n",
       "      <td>232.1</td>\n",
       "      <td>162648.0</td>\n",
       "    </tr>\n",
       "    <tr>\n",
       "      <th>...</th>\n",
       "      <td>...</td>\n",
       "      <td>...</td>\n",
       "      <td>...</td>\n",
       "      <td>...</td>\n",
       "      <td>...</td>\n",
       "      <td>...</td>\n",
       "      <td>...</td>\n",
       "      <td>...</td>\n",
       "    </tr>\n",
       "    <tr>\n",
       "      <th>1495</th>\n",
       "      <td>496</td>\n",
       "      <td>Michaels Cos.</td>\n",
       "      <td>31000.0</td>\n",
       "      <td>5197.0</td>\n",
       "      <td>5.8</td>\n",
       "      <td>378.2</td>\n",
       "      <td>4.2</td>\n",
       "      <td>2148.0</td>\n",
       "    </tr>\n",
       "    <tr>\n",
       "      <th>1496</th>\n",
       "      <td>497</td>\n",
       "      <td>Toll Brothers</td>\n",
       "      <td>4200.0</td>\n",
       "      <td>5170.0</td>\n",
       "      <td>23.9</td>\n",
       "      <td>382.1</td>\n",
       "      <td>5.2</td>\n",
       "      <td>9737.0</td>\n",
       "    </tr>\n",
       "    <tr>\n",
       "      <th>1497</th>\n",
       "      <td>498</td>\n",
       "      <td>Yahoo</td>\n",
       "      <td>8500.0</td>\n",
       "      <td>5169.0</td>\n",
       "      <td>4.0</td>\n",
       "      <td>-214.3</td>\n",
       "      <td>0.0</td>\n",
       "      <td>48083.0</td>\n",
       "    </tr>\n",
       "    <tr>\n",
       "      <th>1498</th>\n",
       "      <td>499</td>\n",
       "      <td>Vistra Energy</td>\n",
       "      <td>4431.0</td>\n",
       "      <td>5164.0</td>\n",
       "      <td>0.0</td>\n",
       "      <td>0.0</td>\n",
       "      <td>0.0</td>\n",
       "      <td>15167.0</td>\n",
       "    </tr>\n",
       "    <tr>\n",
       "      <th>1499</th>\n",
       "      <td>500</td>\n",
       "      <td>ABM Industries</td>\n",
       "      <td>110000.0</td>\n",
       "      <td>5145.0</td>\n",
       "      <td>-2.8</td>\n",
       "      <td>57.2</td>\n",
       "      <td>-25.0</td>\n",
       "      <td>2281.0</td>\n",
       "    </tr>\n",
       "  </tbody>\n",
       "</table>\n",
       "<p>1500 rows × 8 columns</p>\n",
       "</div>"
      ],
      "text/plain": [
       "      Rank        Company Name  Number of Employees  Revenues ($millions)  \\\n",
       "0        1             Walmart            2200000.0              514405.0   \n",
       "1        2         Exxon Mobil              71000.0              290212.0   \n",
       "2        3               Apple             132000.0              265595.0   \n",
       "3        4  Berkshire Hathaway             389000.0              247837.0   \n",
       "4        5          Amazon.com             647500.0              232887.0   \n",
       "...    ...                 ...                  ...                   ...   \n",
       "1495   496       Michaels Cos.              31000.0                5197.0   \n",
       "1496   497       Toll Brothers               4200.0                5170.0   \n",
       "1497   498               Yahoo               8500.0                5169.0   \n",
       "1498   499       Vistra Energy               4431.0                5164.0   \n",
       "1499   500      ABM Industries             110000.0                5145.0   \n",
       "\n",
       "      Revenue Change  Profits ($millions)  Profit Change  Assets ($millions)  \n",
       "0                2.8               6670.0          -32.4            219295.0  \n",
       "1               18.8              20840.0            5.7            346196.0  \n",
       "2               15.9              59531.0           23.1            365725.0  \n",
       "3                2.4               4021.0          -91.1            707794.0  \n",
       "4               30.9              10073.0          232.1            162648.0  \n",
       "...              ...                  ...            ...                 ...  \n",
       "1495             5.8                378.2            4.2              2148.0  \n",
       "1496            23.9                382.1            5.2              9737.0  \n",
       "1497             4.0               -214.3            0.0             48083.0  \n",
       "1498             0.0                  0.0            0.0             15167.0  \n",
       "1499            -2.8                 57.2          -25.0              2281.0  \n",
       "\n",
       "[1500 rows x 8 columns]"
      ]
     },
     "execution_count": 2,
     "metadata": {},
     "output_type": "execute_result"
    }
   ],
   "source": [
    "df = pd.read_csv(\"CleanedFortune.csv\")\n",
    "#Dropping the columns which are not needed\n",
    "df = df.drop('Year', 1)\n",
    "df = df.drop('Market Value As of 3/29/19 ($m)', 1)\n",
    "df = df.drop('Change in Rank', 1)\n",
    "df = df.drop('Unnamed: 0', 1)\n",
    "df"
   ]
  },
  {
   "cell_type": "code",
   "execution_count": 3,
   "metadata": {},
   "outputs": [
    {
     "data": {
      "text/plain": [
       "<matplotlib.axes._subplots.AxesSubplot at 0x7f0a813cee10>"
      ]
     },
     "execution_count": 3,
     "metadata": {},
     "output_type": "execute_result"
    },
    {
     "data": {
      "image/png": "[encoded data removed]",
      "text/plain": [
       "<Figure size 432x288 with 1 Axes>"
      ]
     },
     "metadata": {
      "needs_background": "light"
     },
     "output_type": "display_data"
    }
   ],
   "source": [
    "#Fitting a linear regression model that predicts the RANK of a comapny  \n",
    "#using Profit change as the only feature. \n",
    "\n",
    "AH_train = df.loc[:1275].copy()\n",
    "AH_test = df.loc[1276:].copy()\n",
    "\n",
    "x_train = AH_train[[\"Profit Change\"]]\n",
    "x_test = AH_test[[\"Profit Change\"]]\n",
    "y_train = AH_train['Rank']\n",
    "\n",
    "model = LinearRegression()\n",
    "model.fit(X = x_train, y = y_train)\n",
    "model.predict(X = x_test)\n",
    "\n",
    "X_new = pd.DataFrame()\n",
    "X_new['Profit Change'] = np.linspace(-12000, 25000, num = 1500)\n",
    "\n",
    "y_new = pd.Series(\n",
    "model.predict(X_new),\n",
    "index=X_new['Profit Change']\n",
    ")\n",
    "\n",
    "AH_train.plot.scatter(x = \"Profit Change\", y = \"Rank\")\n",
    "y_new.plot.line()\n"
   ]
  },
  {
   "cell_type": "markdown",
   "metadata": {},
   "source": [
    "The above visual shows if a company's rank changes in correspondence to their profit change. The above visual does not show any meaningful information and thus we can conclude that the change in profit does not have any significace on a comapny's ranks."
   ]
  },
  {
   "cell_type": "code",
   "execution_count": 4,
   "metadata": {},
   "outputs": [
    {
     "data": {
      "text/plain": [
       "<matplotlib.axes._subplots.AxesSubplot at 0x7f0a8135f208>"
      ]
     },
     "execution_count": 4,
     "metadata": {},
     "output_type": "execute_result"
    },
    {
     "data": {
      "image/png": "[encoded data removed]",
      "text/plain": [
       "<Figure size 432x288 with 1 Axes>"
      ]
     },
     "metadata": {
      "needs_background": "light"
     },
     "output_type": "display_data"
    }
   ],
   "source": [
    "#Fitting a linear regression model that predicts the RANK of a comapny  \n",
    "#using Number of Employees as the only feature. \n",
    "\n",
    "AH_train = df.loc[:1275].copy()\n",
    "AH_test = df.loc[1276:].copy()\n",
    "\n",
    "x_train = AH_train[[\"Number of Employees\"]]\n",
    "x_test = AH_test[[\"Number of Employees\"]]\n",
    "y_train = AH_train['Rank']\n",
    "\n",
    "model = LinearRegression()\n",
    "model.fit(X = x_train, y = y_train)\n",
    "model.predict(X = x_test)\n",
    "\n",
    "X_new = pd.DataFrame()\n",
    "X_new['Number of Employees'] = np.linspace(0, 2600000, num = 1500)\n",
    "\n",
    "y_new = pd.Series(\n",
    "model.predict(X_new),\n",
    "index=X_new['Number of Employees']\n",
    ")\n",
    "\n",
    "AH_train.plot.scatter(x = \"Number of Employees\", y = \"Rank\")\n",
    "y_new.plot.line()"
   ]
  },
  {
   "cell_type": "markdown",
   "metadata": {},
   "source": [
    "In the above visual, we are trying to find if the number of employees at a company have any relation to the company's rank in the fortune 500. However, we do not see any meaningful information. The companies are widely spread throughout the rankings even though they have the almost the same amount of number of employees."
   ]
  },
  {
   "cell_type": "code",
   "execution_count": 5,
   "metadata": {},
   "outputs": [
    {
     "data": {
      "text/plain": [
       "<matplotlib.axes._subplots.AxesSubplot at 0x7f0a80c557b8>"
      ]
     },
     "execution_count": 5,
     "metadata": {},
     "output_type": "execute_result"
    },
    {
     "data": {
      "image/png": "[encoded data removed]",
      "text/plain": [
       "<Figure size 432x288 with 1 Axes>"
      ]
     },
     "metadata": {
      "needs_background": "light"
     },
     "output_type": "display_data"
    }
   ],
   "source": [
    "#Fitting a linear regression model that predicts the rank of a comapny  \n",
    "#using Revenues as the only feature. \n",
    "\n",
    "AH_train = df.loc[:1275].copy()\n",
    "AH_test = df.loc[1276:].copy()\n",
    "\n",
    "x_train = AH_train[[\"Revenues ($millions)\"]]\n",
    "x_test = AH_test[[\"Revenues ($millions)\"]]\n",
    "y_train = AH_train['Rank']\n",
    "\n",
    "model = LinearRegression()\n",
    "model.fit(X = x_train, y = y_train)\n",
    "model.predict(X = x_test)\n",
    "\n",
    "X_new = pd.DataFrame()\n",
    "X_new['Revenues ($millions)'] = np.linspace(0, 550000, num = 1500)\n",
    "\n",
    "y_new = pd.Series(\n",
    "model.predict(X_new),\n",
    "index=X_new['Revenues ($millions)']\n",
    ")\n",
    "\n",
    "AH_train.plot.scatter(x = \"Revenues ($millions)\", y = \"Rank\")\n",
    "y_new.plot.line()"
   ]
  },
  {
   "cell_type": "markdown",
   "metadata": {},
   "source": [
    "The above visual shows that as the revenue increases the rank (value) decreases (negatively correlated). The rank value decreases means that the company is ranked higher.\n",
    "The scatter plot approaches 1 as no company can be ranked higher than 1 (no negative values)"
   ]
  },
  {
   "cell_type": "code",
   "execution_count": 6,
   "metadata": {},
   "outputs": [
    {
     "data": {
      "text/plain": [
       "<matplotlib.axes._subplots.AxesSubplot at 0x7f0a80ba9668>"
      ]
     },
     "execution_count": 6,
     "metadata": {},
     "output_type": "execute_result"
    },
    {
     "data": {
      "image/png": "[encoded data removed]",
      "text/plain": [
       "<Figure size 432x288 with 1 Axes>"
      ]
     },
     "metadata": {
      "needs_background": "light"
     },
     "output_type": "display_data"
    }
   ],
   "source": [
    "#Fitting a linear regression model that predicts the rank of a comapny  \n",
    "#using Assets as the only feature.\n",
    "\n",
    "AH_train = df.loc[:1275].copy()\n",
    "AH_test = df.loc[1276:].copy()\n",
    "\n",
    "x_train = AH_train[[\"Assets ($millions)\"]]\n",
    "x_test = AH_test[[\"Assets ($millions)\"]]\n",
    "y_train = AH_train['Rank']\n",
    "\n",
    "model = LinearRegression()\n",
    "model.fit(X = x_train, y = y_train)\n",
    "model.predict(X = x_test)\n",
    "\n",
    "X_new = pd.DataFrame()\n",
    "X_new['Assets ($millions)'] = np.linspace(0, 3500000, num = 1500)\n",
    "\n",
    "y_new = pd.Series(\n",
    "model.predict(X_new),\n",
    "index=X_new['Assets ($millions)']\n",
    ")\n",
    "\n",
    "AH_train.plot.scatter(x = \"Assets ($millions)\", y = \"Rank\")\n",
    "y_new.plot.line()"
   ]
  },
  {
   "cell_type": "markdown",
   "metadata": {},
   "source": [
    "The above visual does not show any concrete relationship between the value of assets a company holds and its rank on the fortune 500. There are alot of companies who hold almost the same amount of assets but have a spread in their ranking. However, there are some outliers in the scatter plot who do not follow the same trend as most of the other companies."
   ]
  },
  {
   "cell_type": "code",
   "execution_count": 12,
   "metadata": {},
   "outputs": [
    {
     "data": {
      "text/plain": [
       "<matplotlib.axes._subplots.AxesSubplot at 0x7f0a80053978>"
      ]
     },
     "execution_count": 12,
     "metadata": {},
     "output_type": "execute_result"
    },
    {
     "data": {
      "image/png": "[encoded data removed]",
      "text/plain": [
       "<Figure size 432x288 with 1 Axes>"
      ]
     },
     "metadata": {
      "needs_background": "light"
     },
     "output_type": "display_data"
    }
   ],
   "source": [
    "#Fitting a linear regression model that predicts the rank of a comapny  \n",
    "#using Profits as the only feature.\n",
    "AH_train = df.loc[:1275].copy()\n",
    "AH_test = df.loc[1276:].copy()\n",
    "\n",
    "x_train = AH_train[[\"Profits ($millions)\"]]\n",
    "x_test = AH_test[[\"Profits ($millions)\"]]\n",
    "y_train = AH_train['Rank']\n",
    "\n",
    "model = LinearRegression()\n",
    "model.fit(X = x_train, y = y_train)\n",
    "model.predict(X = x_test)\n",
    "\n",
    "X_new = pd.DataFrame()\n",
    "X_new['Profits ($millions)'] = np.linspace(-20000, 65000, num = 1500)\n",
    "\n",
    "y_new = pd.Series(\n",
    "model.predict(X_new),\n",
    "index=X_new['Profits ($millions)']\n",
    ")\n",
    "\n",
    "AH_train.plot.scatter(x = \"Profits ($millions)\", y = \"Rank\")\n",
    "y_new.plot.line()"
   ]
  },
  {
   "cell_type": "markdown",
   "metadata": {},
   "source": [
    "The above visual shows the relation between profits of a comapny and its ranking on the fortune500. There is no concrete relationship between the two from the above visuals. Companies with almost the same amount of profits are widely spread out on the rankings."
   ]
  },
  {
   "cell_type": "code",
   "execution_count": 8,
   "metadata": {},
   "outputs": [
    {
     "data": {
      "text/plain": [
       "array([257.42625984, 263.76274828, 267.62310533, 261.59399228,\n",
       "       261.19524503])"
      ]
     },
     "execution_count": 8,
     "metadata": {},
     "output_type": "execute_result"
    }
   ],
   "source": [
    "#Predicting the rank using multiple features (revenue, number of employees, assets, profits) 9Fitting Ashenfelter's Model)\n",
    "ashen_model = LinearRegression()\n",
    "ashen_model.fit(\n",
    "    X = AH_train[[\"Revenues ($millions)\", \"Number of Employees\", \"Assets ($millions)\", \"Profits ($millions)\"]],\n",
    "    y = AH_train[\"Rank\"]\n",
    ")\n",
    "\n",
    "ashen_model.predict(\n",
    "    X = AH_test[[\"Revenues ($millions)\", \"Number of Employees\", \"Assets ($millions)\", \"Profits ($millions)\"]].head()\n",
    ")"
   ]
  },
  {
   "cell_type": "markdown",
   "metadata": {},
   "source": [
    "The above model is much harder to visualize, since it involves five variables: four features, and the target. Nevertheless, we can obtain predictions from it just as we did with the simpler models above. We just need to supply the values of all of the features in the model, in the same order as in the training data."
   ]
  },
  {
   "cell_type": "code",
   "execution_count": 9,
   "metadata": {},
   "outputs": [
    {
     "data": {
      "text/plain": [
       "array([-2.02423053e-03,  1.31741544e-04, -3.89950437e-05, -1.62347986e-03])"
      ]
     },
     "execution_count": 9,
     "metadata": {},
     "output_type": "execute_result"
    }
   ],
   "source": [
    "ashen_model.coef_"
   ]
  },
  {
   "cell_type": "markdown",
   "metadata": {},
   "source": [
    "The above piece of information shows how each feature is correlated to the target variable. The negative values mean they are negatively correlated while the positive values show they are positively correlated. Hence, in our case, the revenue, assets, and profits are negatively correlated to the rank. Meaning, that the predicted target(rank value in our case) decreases as the features increase. While, \"Number of Employees\" is positvely correlated to the rank."
   ]
  },
  {
   "cell_type": "code",
   "execution_count": 10,
   "metadata": {},
   "outputs": [
    {
     "data": {
      "text/plain": [
       "284.1107002377124"
      ]
     },
     "execution_count": 10,
     "metadata": {},
     "output_type": "execute_result"
    }
   ],
   "source": [
    "ashen_model.intercept_"
   ]
  },
  {
   "cell_type": "markdown",
   "metadata": {},
   "source": [
    "In principle, the intercept is the predicted value when all of the features are equal to 0. This interpretation is often purely hypothetical, since it may be impossible for some features to be 0"
   ]
  }
 ],
 "metadata": {
  "kernelspec": {
   "display_name": "Python 3",
   "language": "python",
   "name": "python3"
  },
  "language_info": {
   "codemirror_mode": {
    "name": "ipython",
    "version": 3
   },
   "file_extension": ".py",
   "mimetype": "text/x-python",
   "name": "python",
   "nbconvert_exporter": "python",
   "pygments_lexer": "ipython3",
   "version": "3.6.8"
  }
 },
 "nbformat": 4,
 "nbformat_minor": 4
}
